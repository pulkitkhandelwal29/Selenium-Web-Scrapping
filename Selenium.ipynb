{
 "cells": [
  {
   "cell_type": "markdown",
   "id": "52e56cb1",
   "metadata": {},
   "source": [
    "# Selenium (Use as Web Scrapper)"
   ]
  },
  {
   "cell_type": "markdown",
   "id": "df4d035c",
   "metadata": {},
   "source": [
    "## Part 1 - Setup"
   ]
  },
  {
   "cell_type": "code",
   "execution_count": 8,
   "id": "ff46dca1",
   "metadata": {},
   "outputs": [],
   "source": [
    "# relevant packages & modules\n",
    "from selenium import webdriver\n",
    "from selenium.webdriver.common.keys import Keys\n",
    "from selenium.webdriver.common.by import By\n",
    "from selenium.webdriver.chrome.options import Options\n",
    "import time"
   ]
  },
  {
   "cell_type": "code",
   "execution_count": 9,
   "id": "16b109e9",
   "metadata": {},
   "outputs": [],
   "source": [
    "# relevant websites\n",
    "website1 = 'https://www.geekbuying.com/search?keyword=laptop'\n",
    "website2 = 'http://automationpractice.com/index.php'"
   ]
  },
  {
   "cell_type": "code",
   "execution_count": 10,
   "id": "63a39937",
   "metadata": {},
   "outputs": [],
   "source": [
    "# initialize Chrome\n",
    "driver = webdriver.Chrome(\"C:\\\\Users\\\\pulkit\\\\Documents\\\\webdriver\\\\chromedriver.exe\")\n",
    "\n",
    "# open website\n",
    "driver.get(website1)\n",
    "\n",
    "#maximize window\n",
    "driver.maximize_window()"
   ]
  },
  {
   "cell_type": "markdown",
   "id": "e5afda19",
   "metadata": {},
   "source": [
    "## Part 2 - Locators\n",
    "\n",
    "To Find by String,selector or XPath, press ctrl + f on inspect element and then type your XPath"
   ]
  },
  {
   "cell_type": "markdown",
   "id": "43cc57cc",
   "metadata": {},
   "source": [
    "### 1. XPath -  Locator"
   ]
  },
  {
   "cell_type": "code",
   "execution_count": 14,
   "id": "907e1f79",
   "metadata": {},
   "outputs": [],
   "source": [
    "#finding element by xpath (single element)\n",
    "price = driver.find_element_by_xpath('(//li[@class=\"searchResultItem\"]/div/div[3])[1]')"
   ]
  },
  {
   "cell_type": "code",
   "execution_count": 15,
   "id": "2c688e86",
   "metadata": {},
   "outputs": [
    {
     "name": "stdout",
     "output_type": "stream",
     "text": [
      "₹28005.26\n"
     ]
    }
   ],
   "source": [
    "# print out the price\n",
    "print(price.text)"
   ]
  },
  {
   "cell_type": "code",
   "execution_count": 19,
   "id": "6c4ffea0",
   "metadata": {},
   "outputs": [],
   "source": [
    "#finding element by xpath (multiple element)\n",
    "prices = driver.find_elements_by_xpath('(//li[@class=\"searchResultItem\"]/div/div[3])')"
   ]
  },
  {
   "cell_type": "code",
   "execution_count": 20,
   "id": "3e044100",
   "metadata": {},
   "outputs": [
    {
     "data": {
      "text/plain": [
       "40"
      ]
     },
     "execution_count": 20,
     "metadata": {},
     "output_type": "execute_result"
    }
   ],
   "source": [
    "len(prices)"
   ]
  },
  {
   "cell_type": "code",
   "execution_count": 21,
   "id": "46a5a2be",
   "metadata": {
    "scrolled": true
   },
   "outputs": [
    {
     "name": "stdout",
     "output_type": "stream",
     "text": [
      "₹28005.26\n",
      "₹4590.39\n",
      "₹2294.81\n",
      "₹7804.19\n",
      "₹764.43\n",
      "₹917.47\n",
      "₹3136.52\n",
      "₹1606.14\n",
      "₹5585.14\n",
      "₹1912.21\n",
      "₹2065.25\n",
      "₹2294.81\n",
      "₹3825.19\n",
      "₹4819.94\n",
      "₹1805.09\n",
      "₹764.43\n",
      "₹3825.19\n",
      "₹2600.89\n",
      "₹2065.25\n",
      "₹2294.81\n",
      "₹55858.25\n",
      "₹112482.46\n",
      "₹16068.27\n",
      "₹1529.62\n",
      "₹30606.91\n",
      "₹10405.85\n",
      "₹4896.46\n",
      "₹4896.46\n",
      "₹3060.00\n",
      "₹2294.81\n",
      "₹1070.50\n",
      "₹1300.06\n",
      "₹917.47\n",
      "₹764.43\n",
      "₹30606.91\n",
      "₹28311.34\n",
      "₹29841.72\n",
      "₹32137.30\n",
      "₹1912.21\n",
      "₹52032.29\n"
     ]
    }
   ],
   "source": [
    "# print out all price points\n",
    "for p in prices:\n",
    "    print(p.text)"
   ]
  },
  {
   "cell_type": "code",
   "execution_count": 23,
   "id": "145b63ec",
   "metadata": {},
   "outputs": [
    {
     "data": {
      "text/plain": [
       "list"
      ]
     },
     "execution_count": 23,
     "metadata": {},
     "output_type": "execute_result"
    }
   ],
   "source": [
    "type(prices)"
   ]
  },
  {
   "cell_type": "markdown",
   "id": "4050c34f",
   "metadata": {},
   "source": [
    "### 2. Class Name  - Locator"
   ]
  },
  {
   "cell_type": "code",
   "execution_count": 24,
   "id": "08bce226",
   "metadata": {},
   "outputs": [],
   "source": [
    "#finding the names of products using div class\n",
    "names = driver.find_elements_by_class_name('name')"
   ]
  },
  {
   "cell_type": "code",
   "execution_count": 25,
   "id": "c849d5c5",
   "metadata": {},
   "outputs": [
    {
     "name": "stdout",
     "output_type": "stream",
     "text": [
      "40\n"
     ]
    }
   ],
   "source": [
    "print(len(names))"
   ]
  },
  {
   "cell_type": "code",
   "execution_count": 26,
   "id": "0b547581",
   "metadata": {},
   "outputs": [
    {
     "data": {
      "text/plain": [
       "list"
      ]
     },
     "execution_count": 26,
     "metadata": {},
     "output_type": "execute_result"
    }
   ],
   "source": [
    "type(names)"
   ]
  },
  {
   "cell_type": "code",
   "execution_count": 27,
   "id": "a535ffcb",
   "metadata": {
    "scrolled": true
   },
   "outputs": [
    {
     "name": "stdout",
     "output_type": "stream",
     "text": [
      "ALLDOCUBE KNote X Pro Tablet Laptop Intel Gemini Lake N4100 13.3 Inch 1080P FHD Screen Windows 10 8GB RAM 128GB ROM - Grey\n",
      "Keyboard for One Netbook ONEXPLAYER Game Console Tablet PC Laptop\n",
      "Carrying Case Bag for One Netbook ONEXPLAYER Game Console Tablet PC Laptop\n",
      "Brown Workstation Computer Desk Laptop Table\n",
      "Portable Foldable Laptop Cooling Stand 4 Height Adjustable Non-slip Silicone For 11-17 Inch Notebook Tablet - White\n",
      "Protective Case for 8.9 Inch Magic-Ben MAG1 Pocket Laptop - Black\n",
      "Monitor Laptop Dual Desk Mount Bracket 13\"-23\"\n",
      "Laptop Stand Black 30.5x28x(24.5-37.5) cm Steel\n",
      "Draper Tools Expert Technicians Laptop Tool Case Blue and Black 89209\n",
      "Original Charger for One Netbook One Mix 2S Yoga Pocket Laptop - Black\n",
      "Logitech Pebble Wireless Mouse Bluetooth 2.4GHz Mute Dual Modes Portable For PC - Black\n",
      "Logitech G300S Wired Gaming Mouse 9 Programmable Keys 2500DPI Ergonomic Shape For PC / - Black\n",
      "Logitech C270 HD Vid 720P Webcam With MIC Micphone Video Calling for Android TV Box/PC/\n",
      "Logitech G502 HERO Proteus Spectrum Wired Adaptive Gaming Mouse 12000DPI USB Computer Mouse For PC / - Black\n",
      "A878 114-key LED Backlit Wired USB Gaming Keyboard Adjustable Brightness With Crack Pattern For Desktop / - Black\n",
      "PU Leather Protective Case for 8.4\" One Netbook One Mix 3 / 3S Yoga Pocket Laptop - Black\n",
      "Xiaomi Wowstick 1F + Electric Screwdriver Bits Toolkit for Reparing Phone Toy Laptop Digital Product - Gray\n",
      "Logitech G302 Daedalus Prime MOBA Wired Optical Gaming Mouse Lightweight Design 4000 DPI For PC / - Black\n",
      "Logitech Pebble Wireless Mouse Bluetooth 2.4GHz Mute Dual Modes Portable For PC - White\n",
      "Tronsmart Glary Gaming Headset 7.1 Virtual Surround Sound Stereo Sound with Colorful LED Lighting USB Interface Mic for PC\n",
      "One Netbook A1 360 Degree 2 in 1 Pocket Laptop Intel M3-8100Y 8GB RAM 512GB PCIe SSD + Original Stylus Pen + Protective Case\n",
      "One Netbook 4 Platinum Laptop 360 Degree YOGA 10.1\" Touch Screen Intel Core i7-1160G7 16GB DDR4 RAM 1TB PCI-E SSD WiFi 6 Windows 10 Fingerprint - Black\n",
      "Tablets Laptops Game Consoles - Silver\n",
      "H20 White Backlight Full Screen Touchpad Mini 2.4G Wireless Keyboard for TV Box/Pad//PC - Black\n",
      "KUU A10 Laptops Intel Celeron J4125 Processor 15.6-inch IPS Screen Office Notebook 8GB RAM 256GB SSD Windows 10 - Silver\n",
      "PRS200 Multifunctional Home Theater LED Projector 1500LM 800x480 with Keystone Correction for Desktop\n",
      "Xiaomi 23L Sports Leisure Backpack Waterproof 15.6-inch Laptop Bag Outdoor Travel Rucksack - Gray\n",
      "Xiaomi 23L Sports Leisure Backpack Waterproof 15.6-inch Laptop Bag Outdoor Travel Rucksack - Black\n",
      "Xiaomi 23L Sports Leisure Backpack Waterproof 15.6-inch Laptop Bag Outdoor Travel Rucksack - Gray\n",
      "Xiaomi Portable Mouse Mi Mouse Bluetooth 4.0 / RF 2.4GHz Wireless Dual Modes Connection for PC - Silver\n",
      "PU Leather Protective Case for 7\" One Netbook One Mix 2 / 2S Yoga Pocket Laptop - Black\n",
      "Xiaomi Wireless Mouse 2 Mute Portable Ultra-thin 2.4G Wireless 1000DPI For PC -White\n",
      "PU Leather Protective Case for 8.4\" One Netbook One Mix 3 Pro Yoga Pocket Laptop - Black\n",
      "USB Converter Hub 3*USB + 1*SD + 1*TF For Laptop Notebooks - Black\n",
      "Cenava PA156G Laptop Intel Celeron J4125 15.6 Inch 1920*1080 Windows 10 8GB RAM 256GB SSD - Silver\n",
      "Cenava PA156G Laptop Intel Celeron J4125 15.6 Inch 1920*1080 Windows 10 8GB RAM 128GB SSD - Silver\n",
      "DERE X156 15.6 Inch Laptop Intel Celeron J4115 1920*1080 FHD 8GB DDR4 256G SSD Windows 10 HDMI Output - Silver\n",
      "Cenava PA156G Laptop Intel Celeron J4125 15.6 Inch 1920*1080 Windows 10 8GB RAM 512GB SSD - Silver\n",
      "HXSJ S90 720P HD Webcam USB Compatible Adjustable Angle Automatic Color Correction Built-in Sound-absorbing Microphone For Desktop TV - Black\n",
      "One Netbook A1 360 Degree 2 in 1 Pocket Laptop Intel M3-8100Y 8GB RAM 256GB PCIe SSD + Original Stylus Pen\n"
     ]
    }
   ],
   "source": [
    "for n in names:\n",
    "    print(n.text)"
   ]
  },
  {
   "cell_type": "code",
   "execution_count": 28,
   "id": "71f08d8c",
   "metadata": {},
   "outputs": [
    {
     "name": "stdout",
     "output_type": "stream",
     "text": [
      "Xiaomi 23L Sports Leisure Backpack Waterproof 15.6-inch Laptop Bag Outdoor Travel Rucksack - Gray\n"
     ]
    }
   ],
   "source": [
    "# print specific item from the list\n",
    "print(names[28].text)"
   ]
  },
  {
   "cell_type": "markdown",
   "id": "ee078872",
   "metadata": {},
   "source": [
    "### 3. ID - Locator"
   ]
  },
  {
   "cell_type": "code",
   "execution_count": 31,
   "id": "9d4d8ab1",
   "metadata": {},
   "outputs": [],
   "source": [
    "# initialize Chrome\n",
    "driver = webdriver.Chrome(\"C:\\\\Users\\\\pulkit\\\\Documents\\\\webdriver\\\\chromedriver.exe\")\n",
    "\n",
    "# open website\n",
    "driver.get(website2)\n",
    "\n",
    "#maximize window\n",
    "driver.maximize_window()"
   ]
  },
  {
   "cell_type": "code",
   "execution_count": 33,
   "id": "c96f0b32",
   "metadata": {},
   "outputs": [],
   "source": [
    "#Finding element by ID\n",
    "search = driver.find_element_by_id('search_query_top')"
   ]
  },
  {
   "cell_type": "code",
   "execution_count": 34,
   "id": "86d48a7a",
   "metadata": {},
   "outputs": [],
   "source": [
    "#click the search tab and typing the keys\n",
    "search.click()\n",
    "time.sleep(1)\n",
    "search.send_keys('hellohello')"
   ]
  },
  {
   "cell_type": "markdown",
   "id": "8642e68b",
   "metadata": {},
   "source": [
    "### 4. Name - Locator"
   ]
  },
  {
   "cell_type": "code",
   "execution_count": 35,
   "id": "8edb5d8f",
   "metadata": {},
   "outputs": [],
   "source": [
    "#After typing the text above in search bar, now clicking on the search button\n",
    "search_button = driver.find_element_by_name('submit_search')\n",
    "search_button.click()"
   ]
  },
  {
   "cell_type": "markdown",
   "id": "04de28b4",
   "metadata": {},
   "source": [
    "### 5. Link Text - Locator"
   ]
  },
  {
   "cell_type": "code",
   "execution_count": 36,
   "id": "07a0f52b",
   "metadata": {},
   "outputs": [],
   "source": [
    "#finding element by link text (anchor tag \"title\")\n",
    "contact = driver.find_element_by_link_text('Contact us')"
   ]
  },
  {
   "cell_type": "code",
   "execution_count": 38,
   "id": "56a6b090",
   "metadata": {},
   "outputs": [
    {
     "data": {
      "text/plain": [
       "'Contact us'"
      ]
     },
     "execution_count": 38,
     "metadata": {},
     "output_type": "execute_result"
    }
   ],
   "source": [
    "contact.text"
   ]
  },
  {
   "cell_type": "markdown",
   "id": "033da71f",
   "metadata": {},
   "source": [
    "### 6. Partial Link Text - Locator"
   ]
  },
  {
   "cell_type": "code",
   "execution_count": 39,
   "id": "6b8ab7fb",
   "metadata": {},
   "outputs": [],
   "source": [
    "#Finding contact us but not passing whole word, and then clicking on the link\n",
    "contact_partial = driver.find_element_by_partial_link_text('ntact u')\n",
    "contact_partial.click()"
   ]
  },
  {
   "cell_type": "markdown",
   "id": "accd81f2",
   "metadata": {},
   "source": [
    "## Part 3 - Selenium in Action  (Test Automation)"
   ]
  },
  {
   "cell_type": "code",
   "execution_count": 42,
   "id": "15a501c5",
   "metadata": {},
   "outputs": [],
   "source": [
    "# initialize Chrome\n",
    "driver = webdriver.Chrome(\"C:\\\\Users\\\\pulkit\\\\Documents\\\\webdriver\\\\chromedriver.exe\")\n",
    "# open website\n",
    "driver.get(website2)\n",
    "#maximize window\n",
    "driver.maximize_window()\n",
    "\n",
    "time.sleep(1)\n",
    "\n",
    "#send keys and click on button\n",
    "search = driver.find_element_by_id('search_query_top')\n",
    "search.click()\n",
    "\n",
    "time.sleep(1)\n",
    "\n",
    "# type a text inside the search bar\n",
    "search.send_keys('hello')\n",
    "\n",
    "time.sleep(1)\n",
    "\n",
    "# submit your search request\n",
    "search_button = driver.find_element_by_name('submit_search')\n",
    "search_button.click()\n",
    "\n",
    "#go back (pressing back button on website)\n",
    "driver.back()\n",
    "time.sleep(1)\n",
    "\n",
    "# click Contact us - Link Text Locator\n",
    "contact_us = driver.find_element_by_link_text('Contact us')\n",
    "contact_us.click()\n",
    "\n",
    "time.sleep(1)\n",
    "\n",
    "# close driver at the end (closing chrome at end)\n",
    "driver.close()"
   ]
  },
  {
   "cell_type": "markdown",
   "id": "aab77a02",
   "metadata": {},
   "source": [
    "### Running Everything in headless mode (no chrome was opened in this mode)"
   ]
  },
  {
   "cell_type": "code",
   "execution_count": 43,
   "id": "2f17981e",
   "metadata": {},
   "outputs": [
    {
     "name": "stdout",
     "output_type": "stream",
     "text": [
      "Website was opened\n",
      "A text was typed inside the search bar\n",
      "Search Request was submitted\n",
      "Go back to Initial Page\n",
      "Contact Us button was clicked using the Link Text Locator\n",
      "Chrome was closed!\n"
     ]
    }
   ],
   "source": [
    "chrome_options = Options()\n",
    "chrome_options.add_argument('--headless')\n",
    "\n",
    "# initialize Chrome\n",
    "driver = webdriver.Chrome(\"C:\\\\Users\\\\pulkit\\\\Documents\\\\webdriver\\\\chromedriver.exe\",options=chrome_options)\n",
    "# open website\n",
    "driver.get(website2)\n",
    "#maximize window\n",
    "driver.maximize_window()\n",
    "\n",
    "time.sleep(1)\n",
    "\n",
    "print('Website was opened')\n",
    "\n",
    "#send keys and click on button\n",
    "search = driver.find_element_by_id('search_query_top')\n",
    "search.click()\n",
    "\n",
    "time.sleep(1)\n",
    "\n",
    "# type a text inside the search bar\n",
    "search.send_keys('hello')\n",
    "\n",
    "time.sleep(1)\n",
    "\n",
    "print('A text was typed inside the search bar')\n",
    "\n",
    "# submit your search request\n",
    "search_button = driver.find_element_by_name('submit_search')\n",
    "search_button.click()\n",
    "\n",
    "print('Search Request was submitted')\n",
    "\n",
    "#go back (pressing back button on website)\n",
    "driver.back()\n",
    "time.sleep(1)\n",
    "\n",
    "print('Go back to Initial Page')\n",
    "\n",
    "# click Contact us - Link Text Locator\n",
    "contact_us = driver.find_element_by_link_text('Contact us')\n",
    "contact_us.click()\n",
    "\n",
    "time.sleep(1)\n",
    "\n",
    "print('Contact Us button was clicked using the Link Text Locator')\n",
    "\n",
    "# close driver at the end (closing chrome at end)\n",
    "driver.close()\n",
    "\n",
    "print('Chrome was closed!')"
   ]
  }
 ],
 "metadata": {
  "kernelspec": {
   "display_name": "Python 3",
   "language": "python",
   "name": "python3"
  },
  "language_info": {
   "codemirror_mode": {
    "name": "ipython",
    "version": 3
   },
   "file_extension": ".py",
   "mimetype": "text/x-python",
   "name": "python",
   "nbconvert_exporter": "python",
   "pygments_lexer": "ipython3",
   "version": "3.8.8"
  }
 },
 "nbformat": 4,
 "nbformat_minor": 5
}
